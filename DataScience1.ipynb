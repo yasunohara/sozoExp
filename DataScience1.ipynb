{
  "nbformat": 4,
  "nbformat_minor": 0,
  "metadata": {
    "colab": {
      "name": "DataScience1.ipynb",
      "provenance": [],
      "collapsed_sections": []
    },
    "kernelspec": {
      "name": "python3",
      "display_name": "Python 3"
    }
  },
  "cells": [
    {
      "cell_type": "markdown",
      "metadata": {
        "id": "8FD2er8f3RJf"
      },
      "source": [
        "---\n",
        "# 中心極限定理\n",
        "平均$\\mu$、分散$\\sigma^2$であるような母集団からランダムに$N$個の標本データを取ってきて($[x_1,x_2,\\cdots,x_N]$)、その標本平均$\\bar{X}$\n",
        "$$\\bar{X}=\\frac{1}{N}\\sum_{i=1}^{N} x_i$$\n",
        "を求めることを考えます。ランダムに選んでいるので、標本平均$\\bar{X}$の値は毎回変動しますが、どのような母集団であっても、Nが十分に大きいとき、$\\bar{X}$は平均$\\mu$、分散$\\frac{\\sigma^2}{N}$であるような正規分布$N(\\mu,\\frac{\\sigma^2}{N})$に従っているとみなせます。これを**中心極限定理**といいます。"
      ]
    },
    {
      "cell_type": "markdown",
      "metadata": {
        "id": "zlmA7wxgE58k"
      },
      "source": [
        "### 中心極限定理を実感する\n",
        "母集団が、範囲[0,1]の一様分布であるとします。このとき、母平均は0.5、母分散は1/12となります。一様分布に従う変数を10000個作って、ヒストグラムを描くと以下のようになります"
      ]
    },
    {
      "cell_type": "code",
      "metadata": {
        "id": "LQRd7jrRFer0"
      },
      "source": [
        "import numpy as np\n",
        "import matplotlib.pyplot as plt\n",
        "\n",
        "M = 10000 #ヒストグラム描画用のデータ数\n",
        "x = np.random.uniform(0.0, 1.0, M) #範囲[0,1]の一様分布に従うM個のデータを生成\n",
        "plt.hist(x,bins=50)\n",
        "plt.show()"
      ],
      "execution_count": null,
      "outputs": []
    },
    {
      "cell_type": "markdown",
      "metadata": {
        "id": "hbSPWkn0GRU-"
      },
      "source": [
        "では、一様分布に従う変数を3個作ってその標本平均を計算する(N=3)という作業を5回繰り返してみます。"
      ]
    },
    {
      "cell_type": "code",
      "metadata": {
        "id": "Ozrj053xGawb"
      },
      "source": [
        "N = 3 #標本数\n",
        "for i in range(5):\n",
        "  print(np.mean(np.random.uniform(0.0, 1.0, N)))"
      ],
      "execution_count": null,
      "outputs": []
    },
    {
      "cell_type": "markdown",
      "metadata": {
        "id": "Trk0r-wuIg8w"
      },
      "source": [
        "5回とも異なる標本平均が出ています。それでは、N=3としたときの標本平均を10000回計算して、そのヒストグラムを描いてみます。"
      ]
    },
    {
      "cell_type": "code",
      "metadata": {
        "id": "XTEnMaY7IfKr"
      },
      "source": [
        "def mean_uniform(N):\n",
        "  mean_array = np.array([])\n",
        "  for i in range(M):\n",
        "    mean_array = np.append(mean_array,np.mean(np.random.uniform(0.0, 1.0, N)))\n",
        " \n",
        "  plt.hist(mean_array,bins=50)\n",
        "  plt.show()\n",
        "\n",
        "mean_uniform(N=3)"
      ],
      "execution_count": null,
      "outputs": []
    },
    {
      "cell_type": "markdown",
      "metadata": {
        "id": "nfFqb5yQMLki"
      },
      "source": [
        "母集団は平べったい一様分布であったのにも関わらず、標本平均の分布は正規分布に近くなっています。標本数Nをさらに増やして20とすると、"
      ]
    },
    {
      "cell_type": "code",
      "metadata": {
        "id": "bcd1wWaIM3Do"
      },
      "source": [
        "mean_uniform(N=20)"
      ],
      "execution_count": null,
      "outputs": []
    },
    {
      "cell_type": "markdown",
      "metadata": {
        "id": "6sUUsjysNkAl"
      },
      "source": [
        "となり、母集団の平均0.5を中心とした正規分布にますます近づくとともに、正規分布の幅(=標準偏差)も小さくなっています。"
      ]
    },
    {
      "cell_type": "markdown",
      "metadata": {
        "id": "JvrGoH3uMmnq"
      },
      "source": [
        "# 課題1\n",
        "これまでは母集団を範囲[0.0,1.0]の一様分布[np.random.uniform(0.0,1.0,size)]としてきましたが、\n",
        "\n",
        "*  正規分布(平均0,分散1) [np.random.normal(0,1,size)]\n",
        "*  ベータ分布($\\alpha=0.5,\\beta=0.5$) [np.random.beta(0.5,0.5,size)]\n",
        "*  カイ二乗分布(自由度5) [np.random.chisquare(5,size)]\n",
        "*  あなたが選んだ適当な分布 (分布の詳細を報告してください。興味深い分布を選んだ場合加点します。)\n",
        "\n",
        "にそれぞれ変えたときにも、中心極限定理が成り立つか調べなさい。また、標本平均の分布が正規分布に従うとみなせる$N$について各分布で差があるかどうか調べ、その結果について考察しなさい。\n",
        "\n"
      ]
    },
    {
      "cell_type": "markdown",
      "metadata": {
        "id": "KB1QCpmVXewo"
      },
      "source": [
        "# 解答1\n",
        "(ここに課題1への解答を記載してください。必要に応じて、テキストやコードを追加しても構いません)"
      ]
    },
    {
      "cell_type": "code",
      "metadata": {
        "id": "w6w5WbnrXrs8"
      },
      "source": [
        "# 課題1に用いたPythonのソースコード"
      ],
      "execution_count": null,
      "outputs": []
    },
    {
      "cell_type": "markdown",
      "metadata": {
        "id": "oLVZ2xyXy6ys"
      },
      "source": [
        "---\n",
        "# 母平均の推定\n",
        "## 母分散が既知の場合\n",
        "母集団が正規分布の時、および標本数$N$が十分に大きな場合は、標本平均は正規分布$N(\\mu,\\frac{\\sigma^2}{N})$に従っているとみなせます。したがって、100回の内95回は次式が成り立つことが期待されます。\n",
        "$$\\mu-1.96\\frac{\\sigma}{\\sqrt{N}} \\leq \\bar{X} \\leq \\mu+1.96\\frac{\\sigma}{\\sqrt{N}}$$\n",
        "この式を$\\mu$に関して書き換えると、\n",
        "$$\\bar{X}-1.96\\frac{\\sigma}{\\sqrt{N}} \\leq \\mu \\leq \\bar{X}+1.96\\frac{\\sigma}{\\sqrt{N}}$$\n",
        "となり、100回中95回の割合で、母平均$\\mu$に関して正しく推定できていると期待できます。この母平均$\\mu$に関する区間のことを**95%信頼区間**と呼びます。また、式中の1.96という定数を2.58に変更すると、信頼区間の幅は広がってしまいますが、100回中99回の割合で、母平均$\\mu$に関して正しく推定できていると期待できます。この場合、**99%信頼区間**と呼びます。\n",
        "\n",
        "## 母分散が未知の場合\n",
        "母集団は正規分布$N(\\mu,\\sigma^2)$に従っていると考えられるが、母分散$\\sigma^2$が未知の場合を考えます。このとき、母分散を標本分散$s^2$\n",
        "$$s^2=\\frac{1}{N-1} \\sum_{i=1}^{N} (x_i-\\bar{X})^2$$\n",
        "で代替するものとし、$$t=\\frac{\\bar{X}-\\mu}{\\sqrt{s^2/N}}$$という値を考えます。\n",
        "$t$は、自由度$N-1$のt分布に従うことが知られていて、適切な$\\alpha$を定めると、95%の確率で、以下の式が成り立ちます。\n",
        "$$-\\alpha \\leq \\frac{\\bar{X}-\\mu}{\\sqrt{s^2/N}} \\leq +\\alpha$$\n",
        "$\\alpha$は、Pythonではt.interval()という関数で求めることができます。\n",
        "例えば、$N=10$のとき、$\\alpha=2.26$となります。\n"
      ]
    },
    {
      "cell_type": "code",
      "metadata": {
        "id": "EXP6CeawH734"
      },
      "source": [
        "import scipy.stats as stats\n",
        "\n",
        "N=10\n",
        "stats.t.interval(0.95,N-1)"
      ],
      "execution_count": null,
      "outputs": []
    },
    {
      "cell_type": "markdown",
      "metadata": {
        "id": "OYx0bU6kJknL"
      },
      "source": [
        "先ほどと同様に$\\mu$に関して書き換えると、\n",
        "$$\\bar{X}-\\alpha\\frac{s}{\\sqrt{N}} \\leq \\mu \\leq \\bar{X}+\\alpha\\frac{s}{\\sqrt{N}}$$\n",
        "となり、母分散$\\sigma^2$を用いることなく母平均$\\mu$に関する95%信頼区間を推定できます。\n"
      ]
    },
    {
      "cell_type": "markdown",
      "metadata": {
        "id": "AQdtfRKcPafM"
      },
      "source": [
        "## 実際に母平均を推定してみる\n",
        "母平均は一般的には既知ではないですが、自分で生成したテストデータであれば既知となるように作ることができます。\n",
        "母集団が平均5,分散1であるような正規分布から標本をN=10個生成してみます。"
      ]
    },
    {
      "cell_type": "code",
      "metadata": {
        "id": "Hn32h-73QWJe"
      },
      "source": [
        "x = np.random.normal(5,1,10)\n",
        "print(x)"
      ],
      "execution_count": null,
      "outputs": []
    },
    {
      "cell_type": "markdown",
      "metadata": {
        "id": "QObxLyhUQyOR"
      },
      "source": [
        "母分散が未知という前提の下、xから母平均を推定してみます。まずは標本数$N$と標本平均$\\bar{X}$と標本分散$s^2$を求めます。"
      ]
    },
    {
      "cell_type": "code",
      "metadata": {
        "id": "XBxPFpzmQ-uR"
      },
      "source": [
        "N=len(x)\n",
        "xbar=np.mean(x)\n",
        "s2=np.var(x,ddof=1) #ddof=1とすると標本分散(N-1で割る)\n",
        "print(\"N:{0} xbar:{1:.3f} s2:{2:.3f}\".format(N,xbar,s2))"
      ],
      "execution_count": null,
      "outputs": []
    },
    {
      "cell_type": "markdown",
      "metadata": {
        "id": "d7kXlxbbVYz0"
      },
      "source": [
        "t.interval()という関数を用いて、95%信頼区間を計算します。"
      ]
    },
    {
      "cell_type": "code",
      "metadata": {
        "id": "z50jMR0oTiwT"
      },
      "source": [
        "lo, up = stats.t.interval(0.95,N-1,xbar,np.sqrt(s2/N))\n",
        "print(\"{0:.3f}<=mu<={1:.3f}\".format(lo,up))"
      ],
      "execution_count": null,
      "outputs": []
    },
    {
      "cell_type": "markdown",
      "metadata": {
        "id": "NmbIVOAcV6RL"
      },
      "source": [
        "実際の母平均$\\mu$は5ですが、おそらく95%信頼区間に入っているはずです (入っていない場合はたまたま5%の方にはいっています)"
      ]
    },
    {
      "cell_type": "markdown",
      "metadata": {
        "id": "LIb2KVm5YYVD"
      },
      "source": [
        "# 課題2\n",
        "上記のように、\n",
        "1. 自分で母平均や母分散を指定したデータを$N$個作成\n",
        "2. そのデータのみを用いて95%信頼区間を計算\n",
        "3. 母平均が95%信頼区間に入っているかどうかを判定\n",
        "\n",
        "を行い、判定結果(True or False)を戻り値として出力する関数を作成しなさい。また、その関数を10000回実行し、母平均が95%信頼区間に入った回数を報告しなさい。"
      ]
    },
    {
      "cell_type": "markdown",
      "metadata": {
        "id": "eU0t-Hl5aKSf"
      },
      "source": [
        "#解答2\n",
        "(ここに課題2への解答を記載してください。必要に応じて、テキストやコードを追加しても構いません)"
      ]
    },
    {
      "cell_type": "code",
      "metadata": {
        "id": "JtI1cwS8aZxc"
      },
      "source": [
        "# 課題2に用いたPythonのソースコード"
      ],
      "execution_count": null,
      "outputs": []
    },
    {
      "cell_type": "markdown",
      "metadata": {
        "id": "W4NjuaqZuze1"
      },
      "source": [
        "---\n",
        "# ベイズの定理\n",
        "一般に確率および条件付き確率に関して、次式が成り立ち、**ベイズの定理**と呼ばれます。\n",
        "$$P(B|A) = \\frac{P(A|B)P(B) }{P(A|B)P(B) + P(A|\\bar{B})P(\\bar{B})}$$\n",
        "$P(B)$は、事象Aに関する情報がない場合の事象Bの確率(**事前確率**)、$P(B|A)$は事象Aが起きたことが分かった後の事象Bの確率(**事後確率**)です。Aが結果で、Bがその原因だとすると、ベイズの定理は$P(A|B)$は原因Bから結果Aが生じる確率等から、結果Aから原因がBである確率$P(B|A)$を求めていると解釈することができます。\n",
        "\n"
      ]
    },
    {
      "cell_type": "markdown",
      "metadata": {
        "id": "XOec7-hZuze1"
      },
      "source": [
        "# 課題3\n",
        "日本国内である病気Cにかかっている人の割合が0.1%と仮定します[有病率0.1%]。Cを発見する検査方法について、次のことが知られています。\n",
        "* 有病者がその検査を受けると90%の人が陽性反応(病気であることを示す反応)を示す[感度90%]\n",
        "* その病気でない人がその検査を受けると99%の人が陰性反応(病気でないことを示す反応)を示すが、1%の人が陽性反応を示し誤診断される[特異度99%]\n",
        "\n",
        "日本に住んでいるある人がこの検査を受けとき陽性反応を示しました。この人が本当に病気Cである確率[=陽性的中率(PPV)]は何%でしょうか？\n",
        "また、陰性と判定された人が実際は有病者である確率は何%でしょうか?\n"
      ]
    },
    {
      "cell_type": "markdown",
      "metadata": {
        "id": "8v_FCHOS63Ym"
      },
      "source": [
        "# 解答3\n",
        "(ここに課題3の解答を記述してください。Pythonで解いても、手計算で解いてもどちらでも構いません)"
      ]
    }
  ]
}